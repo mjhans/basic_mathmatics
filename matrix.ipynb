{
 "cells": [
  {
   "cell_type": "code",
   "execution_count": 26,
   "metadata": {
    "collapsed": true
   },
   "outputs": [],
   "source": [
    "import itertools\n",
    "\n",
    "class Matrix:\n",
    "\tdef __init__(self, element):\n",
    "\t\tself.ROW = len(element)\n",
    "\t\tself.COL = len(element[0])\n",
    "\t\tself.ELEM = element\n",
    "\t\n",
    "\tdef __repr__(self):\n",
    "\t\tinfo = \"row:{}, col:{}\".format(self.ROW, self.COL)\n",
    "\t\t\n",
    "\t\tcont = \"\"\n",
    "\t\t\n",
    "\t\tfor m in range(self.ROW):\n",
    "\t\t\tfor n in range(self.COL):\n",
    "\t\t\t\tcont += \"{}\\t\".format(self.ELEM[m][n])\n",
    "\t\t\tcont += \"\\n\"\n",
    "\t\t\t\n",
    "\t\treturn \"{}\\n{}\".format(info, cont)\n",
    "\t\n",
    "\t# def __iter__(self):\n",
    "\t\t\n",
    "\t\t\n",
    "\t\t\n",
    "\tdef dot(self, B):\n",
    "\t\tmatrix = list()\n",
    "\t\tprint(self.COL)\n",
    "\t\tprint(B.ROW)\n",
    "\t\tif self.COL == B.ROW:\n",
    "\t\t\t# 전체 크기는 self.ROW by B.COL\n",
    "\t\t\tfor i in range(self.ROW):\n",
    "\t\t\t\tcol = list()\n",
    "\t\t\t\tfor j in range(B.COL):\n",
    "\t\t\t\t\tsum = 0\n",
    "\t\t\t\t\tfor k in range(self.COL):\n",
    "\t\t\t\t\t\tprint(\"self.ELEM[{0}][{1}]:{2}, B.ELEM[{3}][{4}]:{5}\".format(i, k, self.ELEM[i][k], k, j, B.ELEM[k][j]))\n",
    "\t\t\t\t\t\tsum += self.ELEM[i][k] * B.ELEM[k][j]\n",
    "\t\t\t\t\t\tprint(\"sum: {}\".format(sum))\n",
    "\t\t\t\t\tcol.append(sum)\n",
    "\t\t\t\tmatrix.append(col)\n",
    "\t\telse:\n",
    "\t\t\tprint(\"ERROR, Matrix info not matched\")\n",
    "\t\t\n",
    "\t\treturn matrix"
   ]
  },
  {
   "cell_type": "code",
   "execution_count": 24,
   "metadata": {},
   "outputs": [
    {
     "name": "stdout",
     "output_type": "stream",
     "text": [
      "len : 5\n4\n3\n4\n5\n6\n7\nrow:2, col:3\n2\t3\t4\t\n4\t5\t6\t\n\nrow:3, col:2\n4\t5\t\n6\t5\t\n1\t3\t\n\n3\n3\nself.ELEM[0][0]:2, B.ELEM[0][0]:4\nsum: 8\nself.ELEM[0][1]:3, B.ELEM[1][0]:6\nsum: 26\nself.ELEM[0][2]:4, B.ELEM[2][0]:1\nsum: 30\nself.ELEM[0][0]:2, B.ELEM[0][1]:5\nsum: 10\nself.ELEM[0][1]:3, B.ELEM[1][1]:5\nsum: 25\nself.ELEM[0][2]:4, B.ELEM[2][1]:3\nsum: 37\nself.ELEM[1][0]:4, B.ELEM[0][0]:4\nsum: 16\nself.ELEM[1][1]:5, B.ELEM[1][0]:6\nsum: 46\nself.ELEM[1][2]:6, B.ELEM[2][0]:1\nsum: 52\nself.ELEM[1][0]:4, B.ELEM[0][1]:5\nsum: 20\nself.ELEM[1][1]:5, B.ELEM[1][1]:5\nsum: 45\nself.ELEM[1][2]:6, B.ELEM[2][1]:3\nsum: 63\n[[30, 37], [52, 63]]\nrow:2, col:2\n30\t37\t\n52\t63\t\n\n"
     ]
    }
   ],
   "source": [
    "a = [[2,3,4],[4,5,6]]\n",
    "b = [[4,5],[6,5],[1,3]]\n",
    "m = Matrix(a)\n",
    "n = Matrix(b)\n",
    "\n",
    "print(m)\n",
    "print(n)\n",
    "K = m.dot(n)\n",
    "print(K)\n",
    "k = Matrix(K)\n",
    "print(k)\n"
   ]
  },
  {
   "cell_type": "code",
   "execution_count": null,
   "metadata": {},
   "outputs": [],
   "source": [
    ""
   ]
  }
 ],
 "metadata": {
  "kernelspec": {
   "display_name": "Python 2",
   "language": "python",
   "name": "python2"
  },
  "language_info": {
   "codemirror_mode": {
    "name": "ipython",
    "version": 2.0
   },
   "file_extension": ".py",
   "mimetype": "text/x-python",
   "name": "python",
   "nbconvert_exporter": "python",
   "pygments_lexer": "ipython2",
   "version": "2.7.6"
  }
 },
 "nbformat": 4,
 "nbformat_minor": 0
}